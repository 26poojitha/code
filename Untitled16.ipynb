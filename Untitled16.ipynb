{
 "cells": [
  {
   "cell_type": "code",
   "execution_count": 1,
   "id": "69ef18dd-014f-4ec3-910f-89f2cd6a547a",
   "metadata": {},
   "outputs": [
    {
     "data": {
      "text/plain": [
       "'errors or exceptions\\ntypes of errors/exeptions\\ntry_block\\nexcept\\nfinally\\nrasing exception'"
      ]
     },
     "execution_count": 1,
     "metadata": {},
     "output_type": "execute_result"
    }
   ],
   "source": [
    "'''errors or exceptions\n",
    "types of errors/exeptions\n",
    "try_block\n",
    "except\n",
    "finally\n",
    "rasing exception'''\n"
   ]
  },
  {
   "cell_type": "code",
   "execution_count": 3,
   "id": "4a2542e1-9150-4caf-9a50-35dbf49e8573",
   "metadata": {},
   "outputs": [
    {
     "name": "stdin",
     "output_type": "stream",
     "text": [
      "enter numerator: 5\n",
      "enter denominator: 3\n"
     ]
    },
    {
     "name": "stdout",
     "output_type": "stream",
     "text": [
      "quotient: 1.6666666666666667\n"
     ]
    }
   ],
   "source": [
    "#handling zero division error\n",
    "num = int(input(\"enter numerator:\"))\n",
    "deno = int(input(\"enter denominator:\"))\n",
    "try:\n",
    "    quo=num/deno\n",
    "    print(\"quotient:\",quo)\n",
    "except ZeroDivisionError:\n",
    "    print(\"Denominator cannot be zero\")"
   ]
  },
  {
   "cell_type": "code",
   "execution_count": 9,
   "id": "c4446857-3ef2-4f5f-81fe-02c60dd647ca",
   "metadata": {},
   "outputs": [
    {
     "name": "stdin",
     "output_type": "stream",
     "text": [
      "enter a number: 7\n"
     ]
    },
    {
     "name": "stdout",
     "output_type": "stream",
     "text": [
      "49\n",
      "bye\n"
     ]
    }
   ],
   "source": [
    "#multiple exception handling\n",
    "try:\n",
    "    num = int(input(\"enter a number:\"))\n",
    "    print(num**2)\n",
    "except(keyboardInterrupt):\n",
    "    print(\"you have to enter a number..not string\")\n",
    "except(ValueError):\n",
    "    print(\"please check before you enter..program\")\n",
    "print(\"bye\")"
   ]
  },
  {
   "cell_type": "code",
   "execution_count": 19,
   "id": "5270ec53-4ee2-4468-b6fc-65cdd344b00e",
   "metadata": {},
   "outputs": [
    {
     "name": "stdin",
     "output_type": "stream",
     "text": [
      "enter a number: 7\n"
     ]
    },
    {
     "name": "stdout",
     "output_type": "stream",
     "text": [
      "49\n"
     ]
    }
   ],
   "source": [
    "#multiple exception handling in a single block handling\n",
    "try:\n",
    "    num = int(input(\"enter a number:\"))\n",
    "    print(num**2)\n",
    "except(keyboardInterrupt , ValueError , TypeError):\n",
    "    print(\"please check before you enter..program\")"
   ]
  },
  {
   "cell_type": "code",
   "execution_count": 21,
   "id": "bdffa89c-698a-4f61-b07f-c2a8a2eb10de",
   "metadata": {},
   "outputs": [
    {
     "name": "stdout",
     "output_type": "stream",
     "text": [
      "4\n",
      "even executing perfectly..exception raised manually\n"
     ]
    }
   ],
   "source": [
    "#raise an exception \n",
    "try:\n",
    "    num =4\n",
    "    print(num)\n",
    "    raise ValueError\n",
    "except:\n",
    "    print(\"even executing perfectly..exception raised manually\")"
   ]
  },
  {
   "cell_type": "code",
   "execution_count": 23,
   "id": "96d1e449-96ce-4642-aacf-c0b43c3f5bd4",
   "metadata": {},
   "outputs": [
    {
     "name": "stdout",
     "output_type": "stream",
     "text": [
      "re-raise\n"
     ]
    },
    {
     "ename": "NameError",
     "evalue": "",
     "output_type": "error",
     "traceback": [
      "\u001b[1;31m---------------------------------------------------------------------------\u001b[0m",
      "\u001b[1;31mNameError\u001b[0m                                 Traceback (most recent call last)",
      "Cell \u001b[1;32mIn[23], line 3\u001b[0m\n\u001b[0;32m      1\u001b[0m \u001b[38;5;66;03m#re-=raise an error\u001b[39;00m\n\u001b[0;32m      2\u001b[0m \u001b[38;5;28;01mtry\u001b[39;00m:\n\u001b[1;32m----> 3\u001b[0m     \u001b[38;5;28;01mraise\u001b[39;00m \u001b[38;5;167;01mNameError\u001b[39;00m\n\u001b[0;32m      4\u001b[0m \u001b[38;5;28;01mexcept\u001b[39;00m:\n\u001b[0;32m      5\u001b[0m     \u001b[38;5;28mprint\u001b[39m(\u001b[38;5;124m\"\u001b[39m\u001b[38;5;124mre-raise\u001b[39m\u001b[38;5;124m\"\u001b[39m)\n",
      "\u001b[1;31mNameError\u001b[0m: "
     ]
    }
   ],
   "source": [
    "#re-=raise an error\n",
    "try:\n",
    "    raise NameError\n",
    "except:\n",
    "    print(\"re-raise\")\n",
    "    raise"
   ]
  },
  {
   "cell_type": "code",
   "execution_count": 35,
   "id": "0deecedc-fa68-4853-92ba-8ca2c63c06e1",
   "metadata": {},
   "outputs": [
    {
     "name": "stdout",
     "output_type": "stream",
     "text": [
      "<class 'Exception'>\n",
      "('hi', 'students')\n",
      "('hi', 'students')\n",
      "assigned1: hi\n",
      "assigned2: students\n"
     ]
    }
   ],
   "source": [
    "# instance using in exceptions\n",
    "try: raise Exception('hi','students')\n",
    "except Exception as errorObj:\n",
    "    print(type(errorObj))\n",
    "    print(errorObj.args)\n",
    "    print(errorObj)\n",
    "    x,y = errorObj.args\n",
    "    print(\"assigned1:\",x)\n",
    "    print(\"assigned2:\",y)"
   ]
  },
  {
   "cell_type": "code",
   "execution_count": 39,
   "id": "2d101b2f-57aa-441e-b0c3-5bd2ce07f592",
   "metadata": {},
   "outputs": [
    {
     "name": "stdin",
     "output_type": "stream",
     "text": [
      "enter numerator 4\n",
      " enter denominator 8\n"
     ]
    },
    {
     "name": "stdout",
     "output_type": "stream",
     "text": [
      "0.5\n"
     ]
    }
   ],
   "source": [
    "def div(n,d):\n",
    "    try:\n",
    "        q=n/d\n",
    "        print(q)\n",
    "    except ZeroDivisionError:\n",
    "        print(\"non-processed \")\n",
    "a=int(input(\"enter numerator\"))\n",
    "b=int(input(\" enter denominator\"))\n",
    "div(a,b)"
   ]
  },
  {
   "cell_type": "code",
   "execution_count": 41,
   "id": "61dd2153-235e-462d-8a3d-efb2a5ebeed6",
   "metadata": {},
   "outputs": [
    {
     "data": {
      "text/plain": [
       "' Exception - base class / all exceptions\\nSystemExit - sys.exit()\\nStandardError - except sys.exit()/StopIteration\\nOverflowError - numeric type error exceeds limit\\nArthmeticError - base class for all calc\\nIOError - import file error\\nFloatingPointError\\nAssertionError\\nAttributeError\\nImportError\\nKeyError\\nEnvironmentError\\nIndexError\\nStopIterationError\\nEOFError\\nLookupError\\nSyntaxError\\nSystemError\\nIndentationError'"
      ]
     },
     "execution_count": 41,
     "metadata": {},
     "output_type": "execute_result"
    }
   ],
   "source": [
    "''' Exception - base class / all exceptions\n",
    "SystemExit - sys.exit()\n",
    "StandardError - except sys.exit()/StopIteration\n",
    "OverflowError - numeric type error exceeds limit\n",
    "ArthmeticError - base class for all calc\n",
    "IOError - import file error\n",
    "FloatingPointError\n",
    "AssertionError\n",
    "AttributeError\n",
    "ImportError\n",
    "KeyError\n",
    "EnvironmentError\n",
    "IndexError\n",
    "StopIterationError\n",
    "EOFError\n",
    "LookupError\n",
    "SyntaxError\n",
    "SystemError\n",
    "IndentationError'''\n"
   ]
  },
  {
   "cell_type": "code",
   "execution_count": 45,
   "id": "2a4d2e01-672d-48dc-b05b-372ebc7b74b8",
   "metadata": {},
   "outputs": [
    {
     "name": "stdout",
     "output_type": "stream",
     "text": [
      "99\n",
      "<class 'int'>\n"
     ]
    }
   ],
   "source": [
    "class myError(Exception):\n",
    "    def __init__(self,value):\n",
    "        self.value=value\n",
    "    def __str__(self):\n",
    "        return repr(self.value)\n",
    "try:\n",
    "    raise myError(99)\n",
    "except myError as e:\n",
    "    print(e.value)\n",
    "    print(type(e.value))"
   ]
  },
  {
   "cell_type": "code",
   "execution_count": 47,
   "id": "626ee18b-6aa6-4c48-acc9-a6e5ef411c67",
   "metadata": {},
   "outputs": [
    {
     "name": "stdout",
     "output_type": "stream",
     "text": [
      "raise exception\n",
      "performing cleanup by finally\n"
     ]
    },
    {
     "ename": "ValueError",
     "evalue": "",
     "output_type": "error",
     "traceback": [
      "\u001b[1;31m---------------------------------------------------------------------------\u001b[0m",
      "\u001b[1;31mValueError\u001b[0m                                Traceback (most recent call last)",
      "Cell \u001b[1;32mIn[47], line 3\u001b[0m\n\u001b[0;32m      1\u001b[0m \u001b[38;5;28;01mtry\u001b[39;00m:\n\u001b[0;32m      2\u001b[0m     \u001b[38;5;28mprint\u001b[39m(\u001b[38;5;124m'\u001b[39m\u001b[38;5;124mraise exception\u001b[39m\u001b[38;5;124m'\u001b[39m)\n\u001b[1;32m----> 3\u001b[0m     \u001b[38;5;28;01mraise\u001b[39;00m \u001b[38;5;167;01mValueError\u001b[39;00m\n\u001b[0;32m      4\u001b[0m \u001b[38;5;28;01mfinally\u001b[39;00m:\n\u001b[0;32m      5\u001b[0m     \u001b[38;5;28mprint\u001b[39m(\u001b[38;5;124m\"\u001b[39m\u001b[38;5;124mperforming cleanup by finally\u001b[39m\u001b[38;5;124m\"\u001b[39m)\n",
      "\u001b[1;31mValueError\u001b[0m: "
     ]
    }
   ],
   "source": [
    "try:\n",
    "    print('raise exception')\n",
    "    raise ValueError\n",
    "finally:\n",
    "    print(\"performing cleanup by finally\")"
   ]
  },
  {
   "cell_type": "code",
   "execution_count": 49,
   "id": "b3b151e4-c4a6-4a74-baf0-870de187a87e",
   "metadata": {},
   "outputs": [
    {
     "name": "stdout",
     "output_type": "stream",
     "text": [
      "abc\n",
      "123\n",
      "abc123\n"
     ]
    }
   ],
   "source": [
    "try:\n",
    "    print(\"abc\")#raise exception\n",
    "    raise ValueError\n",
    "except:\n",
    "    print('123')#recive exception\n",
    "finally:\n",
    "    print('abc123')#ignore process\n",
    "    "
   ]
  },
  {
   "cell_type": "code",
   "execution_count": 51,
   "id": "8d896658-eb19-408a-8316-9c68baacbd95",
   "metadata": {},
   "outputs": [
    {
     "name": "stdout",
     "output_type": "stream",
     "text": [
      "\n",
      " ==== calculator menu ==== \n",
      "\n",
      "1. Addition(+)\n",
      "2. subtract(-)\n",
      "3. Multiply(*)\n",
      "4. Division(/)\n",
      "5. Module(%)\n",
      "6. Expo(**)\n",
      "7. floor Division(//)\n",
      "8. Exit\n"
     ]
    },
    {
     "name": "stdin",
     "output_type": "stream",
     "text": [
      "select an operation(1-8): 7\n",
      "Enter 1st number: 6\n",
      "Enter 2nd number: 5\n"
     ]
    },
    {
     "name": "stdout",
     "output_type": "stream",
     "text": [
      "result: 1.0\n",
      "\n",
      " ==== calculator menu ==== \n",
      "\n",
      "1. Addition(+)\n",
      "2. subtract(-)\n",
      "3. Multiply(*)\n",
      "4. Division(/)\n",
      "5. Module(%)\n",
      "6. Expo(**)\n",
      "7. floor Division(//)\n",
      "8. Exit\n"
     ]
    },
    {
     "name": "stdin",
     "output_type": "stream",
     "text": [
      "select an operation(1-8): 8\n"
     ]
    },
    {
     "name": "stdout",
     "output_type": "stream",
     "text": [
      "Exit\n"
     ]
    }
   ],
   "source": [
    "#interactive calc model with python operation\n",
    "'''using class exceptions modules'''\n",
    "class calculator:\n",
    "    def __init__(self):\n",
    "        self.one=0\n",
    "        self.two=0\n",
    "    def input_numbers(self):\n",
    "        try:\n",
    "            self.one=float(input(\"Enter 1st number:\"))\n",
    "            self.two=float(input(\"Enter 2nd number:\"))\n",
    "        except ValueError:\n",
    "            print(\"Invalid input....please enter numbers\")\n",
    "            self.input_numbers()\n",
    "    def add(self):\n",
    "        return self.one + self.two\n",
    "    def subtract(self):\n",
    "        return self.one - self.two\n",
    "    def multiply(self):\n",
    "        return self.one * self.two\n",
    "    def divide(self):\n",
    "        if self.two==0:\n",
    "            raise ZeroDivisionError(\"cannot divide with Zero\")\n",
    "        return self.one / self.two\n",
    "    def module(self):\n",
    "        return self.one % self.two\n",
    "    def expo(self):\n",
    "        return self.one ** self.two\n",
    "    def floor_division(self):\n",
    "        return self.one // self.two\n",
    "def display_menu():\n",
    "    print(\"\\n ==== calculator menu ==== \\n\")\n",
    "    print(\"1. Addition(+)\")\n",
    "    print(\"2. subtract(-)\")\n",
    "    print(\"3. Multiply(*)\")\n",
    "    print(\"4. Division(/)\")\n",
    "    print(\"5. Module(%)\")\n",
    "    print(\"6. Expo(**)\")\n",
    "    print(\"7. floor Division(//)\")\n",
    "    print(\"8. Exit\")\n",
    "    \n",
    "    \n",
    "def main():\n",
    "    calc=calculator()\n",
    "    while True:\n",
    "        display_menu()\n",
    "        choice = input(\"select an operation(1-8):\")\n",
    "        if choice == '8':\n",
    "            print(\"Exit\")\n",
    "            break\n",
    "        calc.input_numbers()\n",
    "        try:\n",
    "            if choice == '1':\n",
    "                print(\"result:\", calc.add())\n",
    "            elif choice == '2':\n",
    "                print(\"result:\", calc.subtract())\n",
    "            elif choice == '3':\n",
    "                print(\"result:\", calc.multiply())\n",
    "            elif choice == '4':\n",
    "                print(\"result:\", calc.divide())\n",
    "            elif choice == '5':\n",
    "                print(\"result:\", calc.module())\n",
    "            elif choice == '6':\n",
    "                print(\"result:\", calc.expo())\n",
    "            elif choice == '7':\n",
    "                print(\"result:\", calc.floor_division())\n",
    "            else:\n",
    "                print(\"invalid choice , select from 1-8\")\n",
    "        except ZeroDivisionError as e:\n",
    "            print(\"Error:\", e)\n",
    "        except Exception as e:\n",
    "            print(\"unexpected Error\", e)\n",
    "main()"
   ]
  },
  {
   "cell_type": "code",
   "execution_count": null,
   "id": "c027b3fc-f21e-40d2-b78b-5d71b45790d6",
   "metadata": {},
   "outputs": [],
   "source": []
  }
 ],
 "metadata": {
  "kernelspec": {
   "display_name": "Python 3 (ipykernel)",
   "language": "python",
   "name": "python3"
  },
  "language_info": {
   "codemirror_mode": {
    "name": "ipython",
    "version": 3
   },
   "file_extension": ".py",
   "mimetype": "text/x-python",
   "name": "python",
   "nbconvert_exporter": "python",
   "pygments_lexer": "ipython3",
   "version": "3.12.7"
  }
 },
 "nbformat": 4,
 "nbformat_minor": 5
}
