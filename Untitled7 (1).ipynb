{
 "cells": [
  {
   "cell_type": "code",
   "execution_count": 7,
   "id": "b0dc90cf-0364-4525-869d-a6d13cf4aad2",
   "metadata": {},
   "outputs": [
    {
     "name": "stdout",
     "output_type": "stream",
     "text": [
      "100\n",
      "This is class method\n"
     ]
    }
   ],
   "source": [
    "class fun():\n",
    "    var=100\n",
    "    def display(self):\n",
    "        print(\"This is class method\")\n",
    "obj = fun()\n",
    "print(obj.var)\n",
    "obj.display()"
   ]
  },
  {
   "cell_type": "code",
   "execution_count": 24,
   "id": "ed548aae-6538-4d40-8c81-46ede1a56910",
   "metadata": {},
   "outputs": [
    {
     "name": "stdout",
     "output_type": "stream",
     "text": [
      "This is class method\n",
      "the value: 10\n"
     ]
    }
   ],
   "source": [
    "#class constructer __init__ (method)\n",
    "class fun():\n",
    "    def __init__(self , val):\n",
    "        print(\"This is class method\")\n",
    "        self.val=val\n",
    "        print(\"the value:\",val)\n",
    "obj=fun(10)\n",
    "\n"
   ]
  },
  {
   "cell_type": "code",
   "execution_count": 32,
   "id": "fe246f5f-eb14-4be2-a082-af578ef288e9",
   "metadata": {},
   "outputs": [
    {
     "name": "stdout",
     "output_type": "stream",
     "text": [
      "object var: 10\n",
      "class var: 1\n",
      "object var: 20\n",
      "class var: 2\n"
     ]
    }
   ],
   "source": [
    "class abc():\n",
    "    cv=0\n",
    "    def __init__(self,var):\n",
    "        abc.cv+=1\n",
    "        self.var=var\n",
    "        print(\"object var:\",var)\n",
    "        print(\"class var:\",abc.cv)\n",
    "obj=abc(10)\n",
    "obj=abc(20)"
   ]
  },
  {
   "cell_type": "code",
   "execution_count": 52,
   "id": "63395e89-c350-46a5-aef0-f0c5418be128",
   "metadata": {},
   "outputs": [
    {
     "name": "stdout",
     "output_type": "stream",
     "text": [
      "6 is even\n"
     ]
    }
   ],
   "source": [
    "class abc(): \n",
    "    def __init__(self,n):\n",
    "        if n%2==0:\n",
    "            print(n,\"is even\")\n",
    "        else:\n",
    "            print(\"odd\")\n",
    "obj=abc(6)\n",
    "            "
   ]
  },
  {
   "cell_type": "code",
   "execution_count": 54,
   "id": "87410e11-75da-48ca-b557-ab464217b6dd",
   "metadata": {},
   "outputs": [
    {
     "name": "stdout",
     "output_type": "stream",
     "text": [
      "24 is even\n"
     ]
    }
   ],
   "source": [
    "class number:\n",
    "    even=0\n",
    "    def check(self,num):\n",
    "        if num%2==0:\n",
    "            self.even=1\n",
    "    def eo(self,num):\n",
    "        self.check(num)\n",
    "        if self.even ==1:\n",
    "            print(num,\"is even\")\n",
    "        else:\n",
    "            print(num,\"is odd\")\n",
    "n=number()\n",
    "n.eo(24)"
   ]
  },
  {
   "cell_type": "code",
   "execution_count": 72,
   "id": "12055480-0ad0-47b5-b6f8-d79d55eb6bc1",
   "metadata": {},
   "outputs": [
    {
     "name": "stdout",
     "output_type": "stream",
     "text": [
      "even numbers: [32, 54]\n",
      "odd numbers : [21, 43, 65]\n"
     ]
    }
   ],
   "source": [
    "class number:\n",
    "    even=[]\n",
    "    odd=[]\n",
    "    def __init__(self,num):\n",
    "        self.num=num\n",
    "        if num%2==0:\n",
    "            number.even.append(num)\n",
    "        else:\n",
    "            number.odd.append(num)\n",
    "n1=number(21)\n",
    "n2=number(32)\n",
    "n3=number(43)\n",
    "n4=number(54)\n",
    "n5=number(65)\n",
    "print(\"even numbers:\",number.even)\n",
    "print(\"odd numbers :\",number.odd)"
   ]
  },
  {
   "cell_type": "code",
   "execution_count": 82,
   "id": "354822e3-072e-43f4-bff2-365de53e95b9",
   "metadata": {},
   "outputs": [
    {
     "name": "stdout",
     "output_type": "stream",
     "text": [
      "object var: 10\n",
      "class var: 1\n",
      "object var: 20\n",
      "class var: 2\n",
      "objects in 10 is going out of scope\n",
      "objects in 20 is going out of scope\n"
     ]
    }
   ],
   "source": [
    "class abc():\n",
    "    cv=0\n",
    "    def __init__(self,var):\n",
    "        abc.cv+=1\n",
    "        self.var=var\n",
    "        print(\"object var:\",var)\n",
    "        print(\"class var:\",abc.cv)\n",
    "    def __del__(self):\n",
    "        abc.cv-=1\n",
    "        print(\"objects in %d is going out of scope\"%self.var)\n",
    "obj1=abc(10)\n",
    "obj2=abc(20)\n",
    "del obj1\n",
    "del obj2"
   ]
  },
  {
   "cell_type": "code",
   "execution_count": 96,
   "id": "0e426743-e7e8-4b02-88bb-e955dd435f29",
   "metadata": {},
   "outputs": [
    {
     "name": "stdout",
     "output_type": "stream",
     "text": [
      "the value stored in object is : 20\n",
      "the length of name stored in object: 7\n",
      "second value is less than first\n"
     ]
    }
   ],
   "source": [
    "class abc():\n",
    "    def __init__(self,name,var):\n",
    "        self.name=name\n",
    "        self.var=var\n",
    "    def __repr__(self):\n",
    "        return repr(self.var)\n",
    "    def __len__(self):\n",
    "        return len(self.name)\n",
    "    def __cmp__(self,obj):\n",
    "        return self.var-obj.var\n",
    "obj = abc(\"pujitha\",20)\n",
    "print(\"the value stored in object is :\",repr(obj))\n",
    "print(\"the length of name stored in object:\",len(obj))\n",
    "obj1=abc(\"jaswanth\",1)\n",
    "val=obj.__cmp__(obj1)\n",
    "if val==0:\n",
    "    print(\"both the values are equal\")\n",
    "elif val==-1:\n",
    "    print(\"first value is less then second\")\n",
    "else:\n",
    "    print(\"second value is less than first\")"
   ]
  },
  {
   "cell_type": "code",
   "execution_count": 98,
   "id": "e04a4718-cd8d-4d16-bcb8-4f6c48440cbd",
   "metadata": {},
   "outputs": [
    {
     "name": "stdout",
     "output_type": "stream",
     "text": [
      "<__main__.numbers object at 0x000001B0F5F224B0>\n",
      "[1, 2, 3, 10, 5, 6, 7, 8, 9]\n"
     ]
    }
   ],
   "source": [
    "class numbers:\n",
    "    def __init__(self,mylist):\n",
    "        self.mylist=mylist\n",
    "    def __getitem__(self,index):\n",
    "        return self.mylist[index]\n",
    "    def __setitem__(self,index,val):\n",
    "        self.mylist[index]=val\n",
    "numlist=numbers([1,2,3,4,5,6,7,8,9])\n",
    "print(numlist)\n",
    "numlist[3]=10\n",
    "print(numlist.mylist)"
   ]
  },
  {
   "cell_type": "code",
   "execution_count": null,
   "id": "7b149162-963c-471c-b84e-3f8b0b53f091",
   "metadata": {},
   "outputs": [],
   "source": []
  }
 ],
 "metadata": {
  "kernelspec": {
   "display_name": "Python 3 (ipykernel)",
   "language": "python",
   "name": "python3"
  },
  "language_info": {
   "codemirror_mode": {
    "name": "ipython",
    "version": 3
   },
   "file_extension": ".py",
   "mimetype": "text/x-python",
   "name": "python",
   "nbconvert_exporter": "python",
   "pygments_lexer": "ipython3",
   "version": "3.12.7"
  }
 },
 "nbformat": 4,
 "nbformat_minor": 5
}
