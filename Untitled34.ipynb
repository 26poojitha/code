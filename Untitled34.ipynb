{
 "cells": [
  {
   "cell_type": "code",
   "execution_count": 3,
   "id": "e4846367-7d32-49bc-a70d-f17a43418051",
   "metadata": {},
   "outputs": [
    {
     "name": "stdout",
     "output_type": "stream",
     "text": [
      "from class method,var=  100\n"
     ]
    }
   ],
   "source": [
    "#private method usage\n",
    "class fun():\n",
    "    def __init__(self,var):\n",
    "        self._var=var\n",
    "    def __display(self):\n",
    "        print(\"from class method,var= \",self._var)\n",
    "obj=fun(100)\n",
    "obj._fun__display()"
   ]
  },
  {
   "cell_type": "code",
   "execution_count": 27,
   "id": "7df72aca-430b-4cf1-b076-9e6647db93db",
   "metadata": {},
   "outputs": [
    {
     "name": "stdout",
     "output_type": "stream",
     "text": [
      "This is a private method\n"
     ]
    }
   ],
   "source": [
    "class MyClass:\n",
    "    def __private_method(self):\n",
    "        print(\"This is a private method\")\n",
    "\n",
    "    def public_method(self):\n",
    "        self.__private_method()\n",
    "\n",
    "obj = MyClass()\n",
    "obj.public_method() "
   ]
  },
  {
   "cell_type": "code",
   "execution_count": 23,
   "id": "c5fd5b84-fd95-4df3-9002-8ad9d213ba60",
   "metadata": {},
   "outputs": [
    {
     "name": "stdout",
     "output_type": "stream",
     "text": [
      "var is:  16\n"
     ]
    }
   ],
   "source": [
    "#code to call a class method from another method in the same class\n",
    "class abc():\n",
    "    def __init__(self,var):\n",
    "        self.var=var\n",
    "    def display(self):\n",
    "        print(\"var is: \",self.var)\n",
    "    def add_value(self):\n",
    "        self.var+=6\n",
    "        self.display()\n",
    "obj = abc(10)\n",
    "obj.add_value()"
   ]
  },
  {
   "cell_type": "code",
   "execution_count": 31,
   "id": "934a7f7f-2799-4992-8572-4f24dbff97f5",
   "metadata": {},
   "outputs": [
    {
     "name": "stdout",
     "output_type": "stream",
     "text": [
      "var is = 100\n",
      "var is = 110\n"
     ]
    }
   ],
   "source": [
    "#class method which calls a function defined global namespace\n",
    "def aaa(x):\n",
    "    return x+10\n",
    "class abc():\n",
    "    def __init__(self,var):\n",
    "        self.var=var\n",
    "    def display(self):\n",
    "        print(\"var is =\",self.var)\n",
    "    def modify(self):\n",
    "        self.var=aaa(self.var)\n",
    "\n",
    "obj=abc(100)\n",
    "obj.display()\n",
    "obj.modify()\n",
    "obj.display()"
   ]
  },
  {
   "cell_type": "code",
   "execution_count": 61,
   "id": "876920a1-b009-47be-904e-360d824b15ee",
   "metadata": {},
   "outputs": [
    {
     "name": "stdout",
     "output_type": "stream",
     "text": [
      "var is :  10\n",
      "obj has attribute var  True\n",
      "after setting value , var is :  26\n",
      "new var poojitha is created with value 10\n"
     ]
    },
    {
     "ename": "AttributeError",
     "evalue": "'abc' object has no attribute 'var'",
     "output_type": "error",
     "traceback": [
      "\u001b[1;31m---------------------------------------------------------------------------\u001b[0m",
      "\u001b[1;31mAttributeError\u001b[0m                            Traceback (most recent call last)",
      "Cell \u001b[1;32mIn[61], line 16\u001b[0m\n\u001b[0;32m     14\u001b[0m \u001b[38;5;28mprint\u001b[39m(\u001b[38;5;124m\"\u001b[39m\u001b[38;5;124mnew var poojitha is created with value\u001b[39m\u001b[38;5;124m\"\u001b[39m,obj\u001b[38;5;241m.\u001b[39mpoojitha)\n\u001b[0;32m     15\u001b[0m \u001b[38;5;28mdelattr\u001b[39m(obj,\u001b[38;5;124m\"\u001b[39m\u001b[38;5;124mvar\u001b[39m\u001b[38;5;124m\"\u001b[39m)\n\u001b[1;32m---> 16\u001b[0m \u001b[38;5;28mprint\u001b[39m(\u001b[38;5;124m\"\u001b[39m\u001b[38;5;124mafter deleting\u001b[39m\u001b[38;5;124m\"\u001b[39m, obj\u001b[38;5;241m.\u001b[39mvar)\n",
      "\u001b[1;31mAttributeError\u001b[0m: 'abc' object has no attribute 'var'"
     ]
    }
   ],
   "source": [
    "\"\"\" built in functions - get ,set ,delete\"\"\"\n",
    "class abc():\n",
    "    def __init__(self,var):\n",
    "        self.var=var\n",
    "    def display(self):\n",
    "        print(\"var is : \",self.var)\n",
    "obj=abc(10)\n",
    "obj.display()\n",
    "print(\"obj has attribute var \",hasattr(obj , \"var\"))\n",
    "getattr(obj,'var')\n",
    "setattr(obj,'var',26)\n",
    "print(\"after setting value , var is : \", obj.var)\n",
    "setattr(obj,'poojitha',10)\n",
    "print(\"new var poojitha is created with value\",obj.poojitha)\n",
    "delattr(obj,\"var\")\n",
    "print(\"after deleting\", obj.var)"
   ]
  },
  {
   "cell_type": "code",
   "execution_count": 69,
   "id": "a5a9dc40-4c90-442e-9ed9-120161e338dc",
   "metadata": {},
   "outputs": [
    {
     "name": "stdout",
     "output_type": "stream",
     "text": [
      "var1:  10\n",
      "var2:  26.13\n",
      "object.__dict__: {'v1': 10, 'v2': 26.13}\n",
      "object.__doc__: None\n",
      "object.__name__: abc\n",
      "object.__module__: __main__\n",
      "object.__bases__: (<class 'object'>,)\n"
     ]
    }
   ],
   "source": [
    "''' built-in class attr\n",
    "1. .__doc__--- when string doc is not specified n return attr\n",
    "2. .__dict__--namespaces accesed attr\n",
    "3. .__name__ return class attr's name\n",
    "4. .__module__\n",
    "5. .__base__inheritence\n",
    "'''\n",
    "class abc():\n",
    "    def __init__(self,v1,v2):\n",
    "        self.v1=v1\n",
    "        self.v2=v2\n",
    "    def display(self):\n",
    "        print(\"var1: \",self.v1)\n",
    "        print(\"var2: \",self.v2)\n",
    "obj = abc(10,26.13)\n",
    "obj.display()\n",
    "print(\"object.__dict__:\",obj.__dict__)\n",
    "print(\"object.__doc__:\",obj.__doc__)\n",
    "print(\"object.__name__:\",abc.__name__)\n",
    "print(\"object.__module__:\",obj.__module__)\n",
    "print(\"object.__bases__:\",abc.__bases__)"
   ]
  },
  {
   "cell_type": "code",
   "execution_count": 77,
   "id": "3900100d-1ef0-46f5-9c3b-77441e4dbd13",
   "metadata": {},
   "outputs": [
    {
     "name": "stdin",
     "output_type": "stream",
     "text": [
      "enter vijay in  1 subject:  88\n",
      "enter vijay in  2 subject:  88\n",
      "enter vijay in  3 subject:  90\n",
      "enter anil in  1 subject:  77\n",
      "enter anil in  2 subject:  78\n",
      "enter anil in  3 subject:  90\n"
     ]
    },
    {
     "name": "stdout",
     "output_type": "stream",
     "text": [
      "vijay got [88, 88, 90]\n",
      "anil got [77, 78, 90]\n"
     ]
    }
   ],
   "source": [
    "'''program that uses class as student to score the name and marks of the student , use a list to store the marks of 3 subjects.\n",
    "constraints:\n",
    "1. take class as student\n",
    "2. create a constructer for the student name\n",
    "3. create a fun for marks , to be entered manually with in their class fun nd add the marks to the list\n",
    "4. display the student name and the marks she/he got\n",
    "5. pass the objects attributes of two student names\n",
    "tc:\n",
    "obj1:\"vijay\"\n",
    "obj2:\"anil\"\n",
    "\n",
    "output : vijay got[88,88,90]\n",
    "         anil got [77,78,90]\n",
    "'''\n",
    "class student:\n",
    "    def __init__(self,name):\n",
    "        self.name=name\n",
    "        self.marks=[]\n",
    "    def enmarks(self):\n",
    "        for i in range (3):\n",
    "            m=int(input(\"enter %s in  %d subject: \"%(self.name,i+1)))\n",
    "            self.marks.append(m)\n",
    "    def display(self):\n",
    "        print(self.name,\"got\",self.marks)\n",
    "s1=student(\"vijay\")\n",
    "s1.enmarks()\n",
    "s2=student(\"anil\")\n",
    "s2.enmarks()\n",
    "s1.display()\n",
    "s2.display()\n",
    "            "
   ]
  },
  {
   "cell_type": "code",
   "execution_count": null,
   "id": "fad29795-de37-4de7-b3e0-b27bcd2f345f",
   "metadata": {},
   "outputs": [],
   "source": [
    "'''program that has a class circle , use a class variable to define the value of constant pi.\n",
    "use this class variable to caliculate the area and cercumferenc of circle with specified radius\n",
    "constraints:\n",
    "pi with the class variable as 3.14159\n",
    "radius = 7.5\n",
    "return the area and circumference values to main program by creating function with in the class respectively'''\n",
    "class circle():\n",
    "    pi=3.14159\n",
    "    def __init__(self, radius):\n",
    "        self.radius=radius\n",
    "    def area(self):\n",
    "        return circle.pi*(self.radius**2)\n",
    "    def circumference(self):\n",
    "        return 2*circle.pi*self.radius\n",
    "    def display(self):\n",
    "        print(self.radius \n",
    "        \n",
    "a=circle(7.5)\n",
    "        "
   ]
  }
 ],
 "metadata": {
  "kernelspec": {
   "display_name": "Python 3 (ipykernel)",
   "language": "python",
   "name": "python3"
  },
  "language_info": {
   "codemirror_mode": {
    "name": "ipython",
    "version": 3
   },
   "file_extension": ".py",
   "mimetype": "text/x-python",
   "name": "python",
   "nbconvert_exporter": "python",
   "pygments_lexer": "ipython3",
   "version": "3.12.7"
  }
 },
 "nbformat": 4,
 "nbformat_minor": 5
}
